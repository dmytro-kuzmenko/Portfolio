{
 "cells": [
  {
   "cell_type": "code",
   "execution_count": 60,
   "id": "61c8ca01",
   "metadata": {},
   "outputs": [],
   "source": [
    "import io\n",
    "import sys\n",
    "\n",
    "import numpy as np\n",
    "import matplotlib\n",
    "\n",
    "from gym.envs.toy_text import discrete\n",
    "from collections import defaultdict"
   ]
  },
  {
   "cell_type": "code",
   "execution_count": 9,
   "id": "78858a30",
   "metadata": {},
   "outputs": [],
   "source": [
    "UP = 0\n",
    "RIGHT = 1\n",
    "DOWN = 2\n",
    "LEFT = 3"
   ]
  },
  {
   "cell_type": "code",
   "execution_count": 10,
   "id": "2482563b",
   "metadata": {},
   "outputs": [],
   "source": [
    "class GridworldEnv(discrete.DiscreteEnv):\n",
    "    \"\"\"\n",
    "    Grid World environment from Sutton's Reinforcement Learning book chapter 4.\n",
    "    You are an agent on an MxN grid and your goal is to reach the terminal\n",
    "    state at the top left or the bottom right corner.\n",
    "    For example, a 4x4 grid looks as follows:\n",
    "    T  o  o  o\n",
    "    o  x  o  o\n",
    "    o  o  o  o\n",
    "    o  o  o  T\n",
    "    x is your position and T are the two terminal states.\n",
    "    You can take actions in each direction (UP=0, RIGHT=1, DOWN=2, LEFT=3).\n",
    "    Actions going off the edge leave you in your current state.\n",
    "    You receive a reward of -1 at each step until you reach a terminal state.\n",
    "    \"\"\"\n",
    "\n",
    "    metadata = {'render.modes': ['human', 'ansi']}\n",
    "\n",
    "    def __init__(self, shape=[4,4]):\n",
    "        if not isinstance(shape, (list, tuple)) or not len(shape) == 2:\n",
    "            raise ValueError('shape argument must be a list/tuple of length 2')\n",
    "\n",
    "        self.shape = shape\n",
    "\n",
    "        nS = np.prod(shape)\n",
    "        nA = 4\n",
    "\n",
    "        MAX_Y = shape[0]\n",
    "        MAX_X = shape[1]\n",
    "\n",
    "        P = {}\n",
    "        grid = np.arange(nS).reshape(shape)\n",
    "        it = np.nditer(grid, flags=['multi_index'])\n",
    "\n",
    "        while not it.finished:\n",
    "            s = it.iterindex\n",
    "            y, x = it.multi_index\n",
    "\n",
    "            # P[s][a] = (prob, next_state, reward, is_done)\n",
    "            P[s] = {a : [] for a in range(nA)}\n",
    "\n",
    "            is_done = lambda s: s == 0 or s == (nS - 1)\n",
    "            reward = 0.0 if is_done(s) else -1.0\n",
    "\n",
    "            # We're stuck in a terminal state\n",
    "            if is_done(s):\n",
    "                P[s][UP] = [(1.0, s, reward, True)]\n",
    "                P[s][RIGHT] = [(1.0, s, reward, True)]\n",
    "                P[s][DOWN] = [(1.0, s, reward, True)]\n",
    "                P[s][LEFT] = [(1.0, s, reward, True)]\n",
    "            # Not a terminal state\n",
    "            else:\n",
    "                ns_up = s if y == 0 else s - MAX_X\n",
    "                ns_right = s if x == (MAX_X - 1) else s + 1\n",
    "                ns_down = s if y == (MAX_Y - 1) else s + MAX_X\n",
    "                ns_left = s if x == 0 else s - 1\n",
    "                P[s][UP] = [(1.0, ns_up, reward, is_done(ns_up))]\n",
    "                P[s][RIGHT] = [(1.0, ns_right, reward, is_done(ns_right))]\n",
    "                P[s][DOWN] = [(1.0, ns_down, reward, is_done(ns_down))]\n",
    "                P[s][LEFT] = [(1.0, ns_left, reward, is_done(ns_left))]\n",
    "\n",
    "            it.iternext()\n",
    "\n",
    "        # Initial state distribution is uniform\n",
    "        isd = np.ones(nS) / nS\n",
    "\n",
    "        # We expose the model of the environment for educational purposes\n",
    "        # This should not be used in any model-free learning algorithm\n",
    "        self.P = P\n",
    "\n",
    "        super(GridworldEnv, self).__init__(nS, nA, P, isd)\n",
    "\n",
    "    def _render(self, mode='human', close=False):\n",
    "        \"\"\" Renders the current gridworld layout\n",
    "         For example, a 4x4 grid with the mode=\"human\" looks like:\n",
    "            T  o  o  o\n",
    "            o  x  o  o\n",
    "            o  o  o  o\n",
    "            o  o  o  T\n",
    "        where x is your position and T are the two terminal states.\n",
    "        \"\"\"\n",
    "        if close:\n",
    "            return\n",
    "\n",
    "        outfile = io.StringIO() if mode == 'ansi' else sys.stdout\n",
    "\n",
    "        grid = np.arange(self.nS).reshape(self.shape)\n",
    "        it = np.nditer(grid, flags=['multi_index'])\n",
    "        while not it.finished:\n",
    "            s = it.iterindex\n",
    "            y, x = it.multi_index\n",
    "\n",
    "            if self.s == s:\n",
    "                output = \" x \"\n",
    "            elif s == 0 or s == self.nS - 1:\n",
    "                output = \" T \"\n",
    "            else:\n",
    "                output = \" o \"\n",
    "\n",
    "            if x == 0:\n",
    "                output = output.lstrip()\n",
    "            if x == self.shape[1] - 1:\n",
    "                output = output.rstrip()\n",
    "\n",
    "            outfile.write(output)\n",
    "\n",
    "            if x == self.shape[1] - 1:\n",
    "                outfile.write(\"\\n\")\n",
    "\n",
    "            it.iternext()"
   ]
  },
  {
   "cell_type": "code",
   "execution_count": 11,
   "id": "802cab1e",
   "metadata": {},
   "outputs": [],
   "source": [
    "env = GridworldEnv()"
   ]
  },
  {
   "cell_type": "markdown",
   "id": "b3e77bbd",
   "metadata": {},
   "source": [
    "# 1. On-policy MC control"
   ]
  },
  {
   "cell_type": "code",
   "execution_count": 12,
   "id": "ae121a08",
   "metadata": {},
   "outputs": [],
   "source": [
    "def make_epsilon_greedy_policy(Q, epsilon, nA):\n",
    "    \"\"\"\n",
    "    Creates an epsilon-greedy policy based on a given Q-function and epsilon.\n",
    "    \n",
    "    Takes the observation as an argument and returns\n",
    "    the probabilities for each action in the form of a numpy array of length nA.\n",
    "    \n",
    "    \"\"\"\n",
    "    def policy_fn(observation):\n",
    "        A = np.ones(nA, dtype=float) * epsilon / nA\n",
    "        best_action = np.argmax(Q[observation])\n",
    "        A[best_action] += (1.0 - epsilon)\n",
    "        return A\n",
    "    return policy_fn"
   ]
  },
  {
   "cell_type": "code",
   "execution_count": 56,
   "id": "d93eaa0a",
   "metadata": {},
   "outputs": [],
   "source": [
    "def mc_control_epsilon_greedy(env, num_episodes, discount_factor=1.0, epsilon=0.1):\n",
    "    \"\"\"\n",
    "    Monte Carlo Control using Epsilon-Greedy policies.\n",
    "    Finds an optimal epsilon-greedy policy.\n",
    "    \n",
    "    Returns:\n",
    "        A tuple (Q, policy).\n",
    "        Q is a dictionary mapping state -> action values.\n",
    "        policy is a function that takes an observation as an argument and returns\n",
    "        action probabilities\n",
    "    \"\"\"\n",
    "    \n",
    "    # Keeping track of sum and count of returns for each state for later average calculation.\n",
    "    returns_sum = defaultdict(float)\n",
    "    returns_count = defaultdict(float)\n",
    "    \n",
    "    # The final action-value function.\n",
    "    # A nested dictionary that maps state -> (action -> action-value).\n",
    "    Q = defaultdict(lambda: np.zeros(env.action_space.n))\n",
    "    \n",
    "    policy = make_epsilon_greedy_policy(Q, epsilon, env.action_space.n)\n",
    "    \n",
    "    for i_episode in range(1, num_episodes + 1):\n",
    "        \n",
    "        if i_episode % 500 == 0:\n",
    "            print(\"\\rEpisode {}/{}.\".format(i_episode, num_episodes), end=\"\")\n",
    "            sys.stdout.flush()\n",
    "\n",
    "        # creating an episode (an array of (state, action, reward) tuples)\n",
    "        episode = []\n",
    "        state = env.reset()\n",
    "        for t in range(100):\n",
    "            probs = policy(state)\n",
    "            action = np.random.choice(np.arange(len(probs)), p=probs)\n",
    "            next_state, reward, done, _ = env.step(action)\n",
    "            episode.append((state, action, reward))\n",
    "            if done:\n",
    "                break\n",
    "            state = next_state\n",
    "\n",
    "        # Find all (state, action) pairs we've visited in this episode\n",
    "        \n",
    "#         print(episode)\n",
    "        sa_in_episode = set([(x[0], x[1]) for x in episode])\n",
    "        \n",
    "        for state, action in sa_in_episode:\n",
    "            sa_pair = (state, action)\n",
    "            \n",
    "            # Find the first occurance of the (state, action) pair in the episode\n",
    "            first_occurence_idx = next(i for i, x in enumerate(episode)\n",
    "                                       if x[0] == state and x[1] == action)\n",
    "            \n",
    "            # Sum up all rewards since the first occurance\n",
    "            G = sum([x[2]*(discount_factor**i) for i, x in enumerate(episode[first_occurence_idx:])])\n",
    "            \n",
    "            # Calculate average return for this state over all sampled episodes\n",
    "            returns_sum[sa_pair] += G\n",
    "            returns_count[sa_pair] += 1.0\n",
    "            Q[state][action] = returns_sum[sa_pair] / returns_count[sa_pair]\n",
    "        \n",
    "        # The policy is improved implicitly by changing the Q dictionary\n",
    "    \n",
    "    return Q, policy"
   ]
  },
  {
   "cell_type": "code",
   "execution_count": 74,
   "id": "9f95176a",
   "metadata": {},
   "outputs": [
    {
     "name": "stdout",
     "output_type": "stream",
     "text": [
      "Episode 500000/500000."
     ]
    }
   ],
   "source": [
    "Q, policy = mc_control_epsilon_greedy(env, num_episodes=500000, epsilon=0.1)"
   ]
  },
  {
   "cell_type": "code",
   "execution_count": 75,
   "id": "6050e68b",
   "metadata": {},
   "outputs": [
    {
     "data": {
      "text/plain": [
       "defaultdict(<function __main__.mc_control_epsilon_greedy.<locals>.<lambda>()>,\n",
       "            {15: array([0., 0., 0., 0.]),\n",
       "             4: array([-1.        , -3.26460072, -3.29984301, -2.18683565]),\n",
       "             5: array([-2.2254395 , -4.36114044, -4.36159346, -2.14337241]),\n",
       "             1: array([-2.17423313, -3.34546959, -3.28265348, -1.        ]),\n",
       "             2: array([-3.39568345, -4.50450958, -4.32522796, -2.14241506]),\n",
       "             6: array([-3.27774436, -3.40570175, -3.37681159, -3.34276387]),\n",
       "             3: array([-4.57028571, -4.57079646, -3.27943782, -3.47486631]),\n",
       "             7: array([-4.43246311, -3.29567723, -2.14101293, -4.30432403]),\n",
       "             13: array([-4.31723338, -2.14182553, -3.38035363, -4.39157325]),\n",
       "             9: array([-3.39932127, -3.3877095 , -3.28208942, -3.37024973]),\n",
       "             14: array([-3.27928202, -1.        , -2.14427552, -3.2758512 ]),\n",
       "             10: array([-4.37921348, -2.14439054, -2.18821096, -4.36067298]),\n",
       "             12: array([-3.31485588, -3.27826533, -4.39933259, -4.39653415]),\n",
       "             8: array([-2.14318127, -4.39891892, -4.39092873, -3.39215686]),\n",
       "             11: array([-3.29279146, -2.1760355 , -1.        , -3.27394408]),\n",
       "             0: array([0., 0., 0., 0.])})"
      ]
     },
     "execution_count": 75,
     "metadata": {},
     "output_type": "execute_result"
    }
   ],
   "source": [
    "Q"
   ]
  },
  {
   "cell_type": "code",
   "execution_count": 76,
   "id": "5f22195d",
   "metadata": {},
   "outputs": [],
   "source": [
    "# create value function from action-value function by picking the best action at each state\n",
    "V = defaultdict(float)\n",
    "\n",
    "for state, actions in Q.items():\n",
    "    action_value = np.max(actions)\n",
    "    V[state] = action_value"
   ]
  },
  {
   "cell_type": "code",
   "execution_count": 77,
   "id": "54bd29f9",
   "metadata": {},
   "outputs": [
    {
     "data": {
      "text/plain": [
       "defaultdict(float,\n",
       "            {15: 0.0,\n",
       "             4: -1.0,\n",
       "             5: -2.1433724075743914,\n",
       "             1: -1.0,\n",
       "             2: -2.1424150552160732,\n",
       "             6: -3.277744360902256,\n",
       "             3: -3.279437820955584,\n",
       "             7: -2.1410129250224714,\n",
       "             13: -2.141825525211195,\n",
       "             9: -3.2820894163353262,\n",
       "             14: -1.0,\n",
       "             10: -2.144390543102487,\n",
       "             12: -3.278265327663681,\n",
       "             8: -2.1431812681510163,\n",
       "             11: -1.0,\n",
       "             0: 0.0})"
      ]
     },
     "execution_count": 77,
     "metadata": {},
     "output_type": "execute_result"
    }
   ],
   "source": [
    "V"
   ]
  },
  {
   "cell_type": "markdown",
   "id": "f4777c3a",
   "metadata": {},
   "source": [
    "# 2. Off-policy MC control"
   ]
  },
  {
   "cell_type": "code",
   "execution_count": 68,
   "id": "b17bab26",
   "metadata": {},
   "outputs": [],
   "source": [
    "def create_random_policy(nA):\n",
    "    \"\"\"\n",
    "    Creates a random policy function.\n",
    "    \"\"\"\n",
    "    A = np.ones(nA, dtype=float) / nA\n",
    "    def policy_fn(observation):\n",
    "        return A\n",
    "    return policy_fn"
   ]
  },
  {
   "cell_type": "code",
   "execution_count": 69,
   "id": "8e5668e8",
   "metadata": {},
   "outputs": [],
   "source": [
    "def create_greedy_policy(Q):\n",
    "    \"\"\"\n",
    "    Creates a greedy policy based on Q values.\n",
    "    \"\"\"\n",
    "    \n",
    "    def policy_fn(state):\n",
    "        A = np.zeros_like(Q[state], dtype=float)\n",
    "        best_action = np.argmax(Q[state])\n",
    "        A[best_action] = 1.0\n",
    "        return A\n",
    "    return policy_fn"
   ]
  },
  {
   "cell_type": "code",
   "execution_count": 70,
   "id": "b2c7eac3",
   "metadata": {},
   "outputs": [],
   "source": [
    "def mc_control_importance_sampling(env, num_episodes, behavior_policy, discount_factor=1.0):\n",
    "    \"\"\"\n",
    "    Monte Carlo Control Off-Policy Control using Weighted Importance Sampling.\n",
    "    Finds an optimal greedy policy.\n",
    "    \"\"\"\n",
    "    \n",
    "    # the final action-value function.\n",
    "    Q = defaultdict(lambda: np.zeros(env.action_space.n))\n",
    "    \n",
    "    # cumulative denominator of the weighted importance sampling formula (across all episodes)\n",
    "    C = defaultdict(lambda: np.zeros(env.action_space.n))\n",
    "    \n",
    "    # greedy target policy\n",
    "    target_policy = create_greedy_policy(Q)\n",
    "        \n",
    "    for i_episode in range(1, num_episodes + 1):\n",
    "        if i_episode % 500 == 0:\n",
    "            print(\"\\rEpisode {}/{}.\".format(i_episode, num_episodes), end=\"\")\n",
    "            sys.stdout.flush()\n",
    "            \n",
    "        # create an episode\n",
    "        episode = []\n",
    "        state = env.reset()\n",
    "        for t in range(100):\n",
    "            \n",
    "            # action sampling\n",
    "            probs = behavior_policy(state)\n",
    "            action = np.random.choice(np.arange(len(probs)), p=probs)\n",
    "            next_state, reward, done, _ = env.step(action)\n",
    "            episode.append((state, action, reward))\n",
    "            if done:\n",
    "                break\n",
    "            state = next_state\n",
    "        \n",
    "        # sum of discounted returns\n",
    "        G = 0.0\n",
    "        \n",
    "        # the importance sampling ratio (the weights of the returns)\n",
    "        W = 1.0\n",
    "        \n",
    "        # reveresed step iteration\n",
    "        for t in range(len(episode))[::-1]:\n",
    "            state, action, reward = episode[t]\n",
    "            \n",
    "            # update the total reward since step t\n",
    "            G = discount_factor * G + reward\n",
    "            \n",
    "            # update weighted importance sampling formula denominator\n",
    "            C[state][action] += W\n",
    "            \n",
    "            # target policy incremental improval\n",
    "            Q[state][action] += (W / C[state][action]) * (G - Q[state][action])\n",
    "            \n",
    "            # should the action taken not be the right action (of the target policy), the cycle is broken.\n",
    "            if action != np.argmax(target_policy(state)):\n",
    "                break\n",
    "                \n",
    "            # update the weights\n",
    "            W = W * 1./behavior_policy(state)[action]\n",
    "        \n",
    "    return Q, target_policy"
   ]
  },
  {
   "cell_type": "code",
   "execution_count": 71,
   "id": "06e0478a",
   "metadata": {},
   "outputs": [],
   "source": [
    "env = GridworldEnv()"
   ]
  },
  {
   "cell_type": "code",
   "execution_count": 72,
   "id": "33a950b4",
   "metadata": {},
   "outputs": [
    {
     "name": "stdout",
     "output_type": "stream",
     "text": [
      "Episode 500000/500000."
     ]
    }
   ],
   "source": [
    "random_policy = create_random_policy(env.action_space.n)\n",
    "Q, policy = mc_control_importance_sampling(env, num_episodes=500000, behavior_policy=random_policy)"
   ]
  },
  {
   "cell_type": "code",
   "execution_count": 73,
   "id": "9b2243c9",
   "metadata": {},
   "outputs": [
    {
     "data": {
      "text/plain": [
       "defaultdict(<function __main__.mc_control_importance_sampling.<locals>.<lambda>()>,\n",
       "            {4: array([-1.        , -2.9990933 , -2.06666667, -1.99978464]),\n",
       "             11: array([-2.26666667, -1.99979441, -1.        , -2.01149425]),\n",
       "             1: array([-1.99971154, -1.82051282, -2.99883459, -1.        ]),\n",
       "             0: array([0., 0., 0., 0.]),\n",
       "             14: array([-2.24      , -1.        , -1.99962826, -1.94117647]),\n",
       "             15: array([0., 0., 0., 0.]),\n",
       "             8: array([-1.99971567, -1.8       , -1.77876106, -2.20588235]),\n",
       "             12: array([-2.04347826, -1.6       , -1.97175141, -1.79279279]),\n",
       "             3: array([-2.        , -1.67326733, -2.        , -1.89256198]),\n",
       "             6: array([-2.14685315, -1.68421053, -1.77669903, -2.99897825]),\n",
       "             9: array([-2.9991589 , -1.71111111, -1.71910112, -2.03225806]),\n",
       "             10: array([-1.45714286, -1.99966875, -1.99965809, -2.15702479]),\n",
       "             7: array([-2.0877193 , -1.8358209 , -1.9997475 , -1.69565217]),\n",
       "             5: array([-1.99965636, -2.09090909, -2.19230769, -1.99975182]),\n",
       "             13: array([-2.29133858, -1.99965633, -1.35555556, -1.96153846]),\n",
       "             2: array([-1.72727273, -2.66120219, -2.79591837, -1.99974756])})"
      ]
     },
     "execution_count": 73,
     "metadata": {},
     "output_type": "execute_result"
    }
   ],
   "source": [
    "Q"
   ]
  },
  {
   "cell_type": "code",
   "execution_count": null,
   "id": "b40668c0",
   "metadata": {},
   "outputs": [],
   "source": []
  }
 ],
 "metadata": {
  "kernelspec": {
   "display_name": "Python 3 (ipykernel)",
   "language": "python",
   "name": "python3"
  },
  "language_info": {
   "codemirror_mode": {
    "name": "ipython",
    "version": 3
   },
   "file_extension": ".py",
   "mimetype": "text/x-python",
   "name": "python",
   "nbconvert_exporter": "python",
   "pygments_lexer": "ipython3",
   "version": "3.8.12"
  }
 },
 "nbformat": 4,
 "nbformat_minor": 5
}
