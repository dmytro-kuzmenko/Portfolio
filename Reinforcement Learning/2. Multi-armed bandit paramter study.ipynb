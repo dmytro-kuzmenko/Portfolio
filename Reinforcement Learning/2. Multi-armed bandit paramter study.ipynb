{
 "cells": [
  {
   "cell_type": "markdown",
   "id": "3bc44498",
   "metadata": {},
   "source": [
    "Exercise 2.1. \n",
    "* P(greedy) + eps*(P(greedy)) => 0.5 + 0.25 = 0.75"
   ]
  },
  {
   "cell_type": "markdown",
   "id": "e134711a",
   "metadata": {},
   "source": [
    "Exercise 2.2\n",
    "* Must have occurred: t=4, 5\n",
    "* Might have occurred: t=1, 2, 3"
   ]
  },
  {
   "cell_type": "code",
   "execution_count": null,
   "id": "df5848cc",
   "metadata": {},
   "outputs": [],
   "source": []
  },
  {
   "cell_type": "code",
   "execution_count": 19,
   "id": "456f84d9",
   "metadata": {},
   "outputs": [],
   "source": [
    "import matplotlib\n",
    "import matplotlib.pyplot as plt\n",
    "import numpy as np\n",
    "from tqdm import trange"
   ]
  },
  {
   "cell_type": "code",
   "execution_count": 13,
   "id": "6d014a09",
   "metadata": {},
   "outputs": [],
   "source": [
    "class Bandit:\n",
    "    \"\"\"\n",
    "        k_arm: # of arms\n",
    "        epsilon: probability for exploration in epsilon-greedy algorithm\n",
    "        initial: initial estimation for each action\n",
    "        step_size: constant step size for updating estimations\n",
    "        sample_averages: if True, use sample averages to update estimations instead of constant step size\n",
    "        UCB_param: if not None, use UCB algorithm to select action\n",
    "        gradient: if True, use gradient based bandit algorithm\n",
    "        gradient_baseline: if True, use average reward as baseline for gradient based bandit algorithm\n",
    "        stationary: if False, rewards per action at each new step are not dependant on the previous experience\n",
    "    \"\"\"\n",
    "    \n",
    "    def __init__(self, k_arm=10, epsilon=0.05, step_size=0.1, initial=0., sample_averages=False, UCB_param=None,\n",
    "                 gradient=False, gradient_baseline=False, stationary=True):\n",
    "        self.k = k_arm\n",
    "        self.step_size = step_size\n",
    "        self.sample_averages = sample_averages\n",
    "        self.indices = np.arange(self.k)\n",
    "        self.time = 0\n",
    "        self.UCB_param = UCB_param\n",
    "        self.initial = initial\n",
    "        self.stationary = stationary\n",
    "        self.gradient = gradient\n",
    "        self.gradient_baseline = gradient_baseline\n",
    "        self.average_reward = 0\n",
    "        self.epsilon = epsilon\n",
    "\n",
    "    def reset(self):\n",
    "        \n",
    "        # real reward for each action\n",
    "        self.q_true = np.random.randn(self.k)\n",
    "\n",
    "        # estimation for each action\n",
    "        self.q_estimation = np.zeros(self.k) + self.initial\n",
    "\n",
    "        # # of chosen times for each action\n",
    "        self.action_count = np.zeros(self.k)\n",
    "\n",
    "        self.best_action = np.argmax(self.q_true)\n",
    "\n",
    "        self.time = 0\n",
    "\n",
    "    # get an action for this bandit\n",
    "    def act(self):\n",
    "        \n",
    "        # exploration\n",
    "        if np.random.rand() < self.epsilon:\n",
    "            return np.random.choice(self.indices)\n",
    "\n",
    "        # UCB\n",
    "        if self.UCB_param is not None:\n",
    "            UCB_estimation = self.q_estimation + \\\n",
    "                self.UCB_param * np.sqrt(np.log(self.time + 1) / (self.action_count + 1e-6))\n",
    "            q_best = np.max(UCB_estimation)\n",
    "            return np.random.choice(np.where(UCB_estimation == q_best)[0])\n",
    "\n",
    "        # gradient-based bandit\n",
    "        if self.gradient:\n",
    "            exp_est = np.exp(self.q_estimation)\n",
    "            self.action_prob = exp_est / np.sum(exp_est)\n",
    "#             print(self.action_prob)\n",
    "            return np.random.choice(self.indices, p=self.action_prob)\n",
    "\n",
    "        # exploitation\n",
    "        q_best = np.max(self.q_estimation)\n",
    "        \n",
    "        return np.random.choice(np.where(self.q_estimation == q_best)[0])\n",
    "\n",
    "    # take an action, update estimation for this action\n",
    "    def step(self, action):\n",
    "        \n",
    "        # generate the reward under N(real reward, 1)\n",
    "        if self.stationary:\n",
    "            reward = np.random.randn() + self.q_true[action]\n",
    "        else:\n",
    "            reward = np.random.randn() \n",
    "            \n",
    "        self.time += 1\n",
    "        self.action_count[action] += 1\n",
    "        self.average_reward += (reward - self.average_reward) / self.time\n",
    "\n",
    "        if self.sample_averages:\n",
    "            # update estimation using sample averages (for UCB)\n",
    "            self.q_estimation[action] += (reward - self.q_estimation[action]) / self.action_count[action]\n",
    "        elif self.gradient:\n",
    "            pad_vector = np.zeros(self.k)\n",
    "            pad_vector[action] = 1\n",
    "            if self.gradient_baseline:\n",
    "                # using average reward as baseline\n",
    "                baseline = self.average_reward\n",
    "            else:\n",
    "                baseline = 0\n",
    "            self.q_estimation += self.step_size * (reward - baseline) * (pad_vector - self.action_prob)\n",
    "        else:\n",
    "            # update estimation with constant step size\n",
    "            self.q_estimation[action] += self.step_size * (reward - self.q_estimation[action])\n",
    "            \n",
    "        return reward"
   ]
  },
  {
   "cell_type": "code",
   "execution_count": 8,
   "id": "fe4009f3",
   "metadata": {},
   "outputs": [],
   "source": [
    "def simulate(runs, time, bandits):\n",
    "    rewards = np.zeros((len(bandits), runs, time))\n",
    "    best_action_counts = np.zeros(rewards.shape)\n",
    "    for i, bandit in enumerate(bandits):\n",
    "        for r in trange(runs):\n",
    "            bandit.reset()\n",
    "            for t in range(time):\n",
    "                action = bandit.act()\n",
    "                reward = bandit.step(action)\n",
    "                rewards[i, r, t] = reward\n",
    "                if action == bandit.best_action:\n",
    "                    best_action_counts[i, r, t] = 1\n",
    "    mean_best_action_counts = best_action_counts.mean(axis=1)\n",
    "    mean_rewards = rewards.mean(axis=1)\n",
    "    return mean_best_action_counts, mean_rewards"
   ]
  },
  {
   "cell_type": "code",
   "execution_count": 7,
   "id": "dd1a5cdf",
   "metadata": {},
   "outputs": [],
   "source": [
    "labels = ['epsilon-greedy', 'gradient bandit',\n",
    "          'UCB', 'optimistic initialization']\n",
    "generators = [lambda epsilon: Bandit(epsilon=epsilon, sample_averages=True),\n",
    "              lambda alpha: Bandit(gradient=True, step_size=alpha, gradient_baseline=True),\n",
    "              lambda coef: Bandit(epsilon=0, UCB_param=coef, sample_averages=True),\n",
    "              lambda initial: Bandit(epsilon=0, initial=initial, step_size=0.1)]\n",
    "parameters = [np.arange(-7, -1, dtype=np.float),\n",
    "                  np.arange(-5, 2, dtype=np.float),\n",
    "                  np.arange(-4, 3, dtype=np.float),\n",
    "                  np.arange(-2, 3, dtype=np.float)]"
   ]
  },
  {
   "cell_type": "code",
   "execution_count": 9,
   "id": "29f4d2dd",
   "metadata": {},
   "outputs": [],
   "source": [
    "runs = 2000\n",
    "time = 1000"
   ]
  },
  {
   "cell_type": "code",
   "execution_count": null,
   "id": "5d24292c",
   "metadata": {},
   "outputs": [],
   "source": [
    "bandits = []\n",
    "for generator, parameter in zip(generators, parameters):\n",
    "    for param in parameter:\n",
    "        bandits.append(generator(pow(2, param)))"
   ]
  },
  {
   "cell_type": "code",
   "execution_count": 25,
   "id": "b35580f8",
   "metadata": {},
   "outputs": [
    {
     "name": "stderr",
     "output_type": "stream",
     "text": [
      "100%|██████████████████████████████████████████████████████████████████████████████| 2000/2000 [00:32<00:00, 61.11it/s]\n",
      "100%|██████████████████████████████████████████████████████████████████████████████| 2000/2000 [00:32<00:00, 61.42it/s]\n",
      "100%|██████████████████████████████████████████████████████████████████████████████| 2000/2000 [00:32<00:00, 61.41it/s]\n",
      "100%|██████████████████████████████████████████████████████████████████████████████| 2000/2000 [00:32<00:00, 61.91it/s]\n",
      "100%|██████████████████████████████████████████████████████████████████████████████| 2000/2000 [00:33<00:00, 60.31it/s]\n",
      "100%|██████████████████████████████████████████████████████████████████████████████| 2000/2000 [00:30<00:00, 65.79it/s]\n",
      "100%|██████████████████████████████████████████████████████████████████████████████| 2000/2000 [01:15<00:00, 26.37it/s]\n",
      "100%|██████████████████████████████████████████████████████████████████████████████| 2000/2000 [01:15<00:00, 26.59it/s]\n",
      "100%|██████████████████████████████████████████████████████████████████████████████| 2000/2000 [01:14<00:00, 26.74it/s]\n",
      "100%|██████████████████████████████████████████████████████████████████████████████| 2000/2000 [01:14<00:00, 26.71it/s]\n",
      "100%|██████████████████████████████████████████████████████████████████████████████| 2000/2000 [01:15<00:00, 26.51it/s]\n",
      "100%|██████████████████████████████████████████████████████████████████████████████| 2000/2000 [01:15<00:00, 26.45it/s]\n",
      "100%|██████████████████████████████████████████████████████████████████████████████| 2000/2000 [01:14<00:00, 26.92it/s]\n",
      "100%|██████████████████████████████████████████████████████████████████████████████| 2000/2000 [00:44<00:00, 44.87it/s]\n",
      "100%|██████████████████████████████████████████████████████████████████████████████| 2000/2000 [00:45<00:00, 44.34it/s]\n",
      "100%|██████████████████████████████████████████████████████████████████████████████| 2000/2000 [00:45<00:00, 44.31it/s]\n",
      "100%|██████████████████████████████████████████████████████████████████████████████| 2000/2000 [00:44<00:00, 44.60it/s]\n",
      "100%|██████████████████████████████████████████████████████████████████████████████| 2000/2000 [00:44<00:00, 45.08it/s]\n",
      "100%|██████████████████████████████████████████████████████████████████████████████| 2000/2000 [00:44<00:00, 44.72it/s]\n",
      "100%|██████████████████████████████████████████████████████████████████████████████| 2000/2000 [00:44<00:00, 44.65it/s]\n",
      "100%|██████████████████████████████████████████████████████████████████████████████| 2000/2000 [00:31<00:00, 64.02it/s]\n",
      "100%|██████████████████████████████████████████████████████████████████████████████| 2000/2000 [00:31<00:00, 62.64it/s]\n",
      "100%|██████████████████████████████████████████████████████████████████████████████| 2000/2000 [00:31<00:00, 63.34it/s]\n",
      "100%|██████████████████████████████████████████████████████████████████████████████| 2000/2000 [00:31<00:00, 63.21it/s]\n",
      "100%|██████████████████████████████████████████████████████████████████████████████| 2000/2000 [00:31<00:00, 63.15it/s]\n"
     ]
    },
    {
     "data": {
      "text/plain": [
       "<matplotlib.legend.Legend at 0x21b473defd0>"
      ]
     },
     "execution_count": 25,
     "metadata": {},
     "output_type": "execute_result"
    },
    {
     "data": {
      "image/png": "[encoded data removed]",
      "text/plain": [
       "<Figure size 432x288 with 1 Axes>"
      ]
     },
     "metadata": {
      "needs_background": "light"
     },
     "output_type": "display_data"
    }
   ],
   "source": [
    "_, average_rewards = simulate(runs, time, bandits)\n",
    "rewards = np.mean(average_rewards, axis=1)\n",
    "\n",
    "i = 0\n",
    "for label, parameter in zip(labels, parameters):\n",
    "    l = len(parameter)\n",
    "    plt.plot(parameter, rewards[i:i+l], label=label)\n",
    "    i += l\n",
    "plt.xlabel('Parameter($2^x$)')\n",
    "plt.ylabel('Average reward')\n",
    "plt.legend()"
   ]
  },
  {
   "cell_type": "code",
   "execution_count": 14,
   "id": "1b1a9b2c",
   "metadata": {},
   "outputs": [],
   "source": [
    "labels = ['epsilon-greedy', 'gradient bandit',\n",
    "          'UCB', 'optimistic initialization']\n",
    "generators = [lambda epsilon: Bandit(epsilon=epsilon, sample_averages=True, stationary=False),\n",
    "              lambda alpha: Bandit(gradient=True, step_size=alpha, gradient_baseline=True, stationary=False),\n",
    "              lambda coef: Bandit(epsilon=0, UCB_param=coef, sample_averages=True, stationary=False),\n",
    "              lambda initial: Bandit(epsilon=0, initial=initial, step_size=0.1, stationary=False)]\n",
    "parameters = [np.arange(-7, -1, dtype=np.float),\n",
    "                  np.arange(-5, 2, dtype=np.float),\n",
    "                  np.arange(-4, 3, dtype=np.float),\n",
    "                  np.arange(-2, 3, dtype=np.float)]"
   ]
  },
  {
   "cell_type": "code",
   "execution_count": 15,
   "id": "e9f67600",
   "metadata": {},
   "outputs": [],
   "source": [
    "bandits = []\n",
    "for generator, parameter in zip(generators, parameters):\n",
    "    for param in parameter:\n",
    "        bandits.append(generator(pow(2, param)))"
   ]
  },
  {
   "cell_type": "code",
   "execution_count": 16,
   "id": "376d060e",
   "metadata": {},
   "outputs": [],
   "source": [
    "runs = 2000\n",
    "time = 1000"
   ]
  },
  {
   "cell_type": "code",
   "execution_count": 17,
   "id": "ed3b2923",
   "metadata": {},
   "outputs": [
    {
     "name": "stderr",
     "output_type": "stream",
     "text": [
      "100%|██████████████████████████████████████████████████████████████████████████████| 2000/2000 [00:26<00:00, 74.87it/s]\n",
      "100%|██████████████████████████████████████████████████████████████████████████████| 2000/2000 [00:27<00:00, 72.47it/s]\n",
      "100%|██████████████████████████████████████████████████████████████████████████████| 2000/2000 [00:27<00:00, 73.82it/s]\n",
      "100%|██████████████████████████████████████████████████████████████████████████████| 2000/2000 [00:26<00:00, 74.26it/s]\n",
      "100%|██████████████████████████████████████████████████████████████████████████████| 2000/2000 [00:25<00:00, 78.19it/s]\n",
      "100%|██████████████████████████████████████████████████████████████████████████████| 2000/2000 [00:24<00:00, 82.08it/s]\n",
      "100%|██████████████████████████████████████████████████████████████████████████████| 2000/2000 [01:01<00:00, 32.63it/s]\n",
      "100%|██████████████████████████████████████████████████████████████████████████████| 2000/2000 [01:03<00:00, 31.57it/s]\n",
      "100%|██████████████████████████████████████████████████████████████████████████████| 2000/2000 [01:01<00:00, 32.35it/s]\n",
      "100%|██████████████████████████████████████████████████████████████████████████████| 2000/2000 [01:01<00:00, 32.39it/s]\n",
      "100%|██████████████████████████████████████████████████████████████████████████████| 2000/2000 [01:02<00:00, 32.13it/s]\n",
      "100%|██████████████████████████████████████████████████████████████████████████████| 2000/2000 [01:02<00:00, 31.96it/s]\n",
      "100%|██████████████████████████████████████████████████████████████████████████████| 2000/2000 [01:02<00:00, 32.14it/s]\n",
      "100%|██████████████████████████████████████████████████████████████████████████████| 2000/2000 [00:39<00:00, 51.23it/s]\n",
      "100%|██████████████████████████████████████████████████████████████████████████████| 2000/2000 [00:39<00:00, 51.18it/s]\n",
      "100%|██████████████████████████████████████████████████████████████████████████████| 2000/2000 [00:38<00:00, 51.34it/s]\n",
      "100%|██████████████████████████████████████████████████████████████████████████████| 2000/2000 [00:38<00:00, 52.17it/s]\n",
      "100%|██████████████████████████████████████████████████████████████████████████████| 2000/2000 [00:38<00:00, 51.89it/s]\n",
      "100%|██████████████████████████████████████████████████████████████████████████████| 2000/2000 [00:39<00:00, 51.28it/s]\n",
      "100%|██████████████████████████████████████████████████████████████████████████████| 2000/2000 [00:39<00:00, 51.01it/s]\n",
      "100%|██████████████████████████████████████████████████████████████████████████████| 2000/2000 [00:26<00:00, 75.35it/s]\n",
      "100%|██████████████████████████████████████████████████████████████████████████████| 2000/2000 [00:26<00:00, 75.09it/s]\n",
      "100%|██████████████████████████████████████████████████████████████████████████████| 2000/2000 [00:26<00:00, 74.93it/s]\n",
      "100%|██████████████████████████████████████████████████████████████████████████████| 2000/2000 [00:26<00:00, 75.14it/s]\n",
      "100%|██████████████████████████████████████████████████████████████████████████████| 2000/2000 [00:26<00:00, 74.97it/s]\n"
     ]
    },
    {
     "data": {
      "text/plain": [
       "<matplotlib.legend.Legend at 0x26f7c35dac0>"
      ]
     },
     "execution_count": 17,
     "metadata": {},
     "output_type": "execute_result"
    },
    {
     "data": {
      "image/png": "[encoded data removed]",
      "text/plain": [
       "<Figure size 432x288 with 1 Axes>"
      ]
     },
     "metadata": {
      "needs_background": "light"
     },
     "output_type": "display_data"
    }
   ],
   "source": [
    "_, average_rewards = simulate(runs, time, bandits)\n",
    "rewards = np.mean(average_rewards, axis=1)\n",
    "\n",
    "i = 0\n",
    "for label, parameter in zip(labels, parameters):\n",
    "    l = len(parameter)\n",
    "    plt.plot(parameter, rewards[i:i+l], label=label)\n",
    "    i += l\n",
    "plt.xlabel('Parameter($2^x$)')\n",
    "plt.ylabel('Average reward')\n",
    "plt.legend()"
   ]
  },
  {
   "cell_type": "code",
   "execution_count": null,
   "id": "c13c183e",
   "metadata": {},
   "outputs": [],
   "source": []
  },
  {
   "cell_type": "code",
   "execution_count": null,
   "id": "663c2e25",
   "metadata": {},
   "outputs": [],
   "source": []
  },
  {
   "cell_type": "code",
   "execution_count": null,
   "id": "818f4010",
   "metadata": {},
   "outputs": [],
   "source": []
  }
 ],
 "metadata": {
  "kernelspec": {
   "display_name": "Python 3 (ipykernel)",
   "language": "python",
   "name": "python3"
  },
  "language_info": {
   "codemirror_mode": {
    "name": "ipython",
    "version": 3
   },
   "file_extension": ".py",
   "mimetype": "text/x-python",
   "name": "python",
   "nbconvert_exporter": "python",
   "pygments_lexer": "ipython3",
   "version": "3.8.12"
  }
 },
 "nbformat": 4,
 "nbformat_minor": 5
}
